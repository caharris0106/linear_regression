{
 "cells": [
  {
   "cell_type": "raw",
   "metadata": {},
   "source": [
    "# https://deeplearningcourses.com/c/data-science-linear-regression-in-python\n",
    "# need to sudo pip install xlrd to use pd.read_excel\n",
    "# data is from:\n",
    "# http://college.cengage.com/mathematics/brase/understandable_statistics/7e/students/datasets/mlr/frames/mlr02.html\n",
    "\n",
    "# The data (X1, X2, X3) are for each patient.\n",
    "# X1 = systolic blood pressure\n",
    "# X2 = age in years\n",
    "# X3 = weight in pounds"
   ]
  },
  {
   "cell_type": "code",
   "execution_count": 23,
   "metadata": {
    "scrolled": true
   },
   "outputs": [
    {
     "name": "stdout",
     "output_type": "stream",
     "text": [
      "*** No CODEPAGE record, no encoding_override: will use 'ascii'\n"
     ]
    },
    {
     "data": {
      "image/png": "[encoded data removed]",
      "text/plain": [
       "<matplotlib.figure.Figure at 0x24131744978>"
      ]
     },
     "metadata": {},
     "output_type": "display_data"
    },
    {
     "data": {
      "image/png": "[encoded data removed]",
      "text/plain": [
       "<matplotlib.figure.Figure at 0x2412e9a41d0>"
      ]
     },
     "metadata": {},
     "output_type": "display_data"
    },
    {
     "name": "stdout",
     "output_type": "stream",
     "text": [
      "R2 Age:  0.9578407208147356\n",
      "R2 Weight:  0.9419952085293065\n",
      "R2 Both:  0.9836786169200672\n"
     ]
    }
   ],
   "source": [
    "import pandas as pd\n",
    "import numpy as np\n",
    "import matplotlib.pyplot as plt\n",
    "\n",
    "# Treating blood pressure as thing we want to predict\n",
    "# The whole point is to try taking data about age, wieght and BP, and making a model to predict BP from\n",
    "# W  and Age\n",
    "lst = []\n",
    "for x in range(11):\n",
    "    lst.append(random.randint(0,100))\n",
    "\n",
    "df = pd.read_excel('mlr02.xls')\n",
    "X = df.as_matrix()\n",
    "\n",
    "# Systolic BP vs Age\n",
    "plt.scatter(X[:,1], X[:,0])\n",
    "plt.show()\n",
    "\n",
    "#Systolic BP vs Wieght\n",
    "plt.scatter(X[:,2], X[:,0])\n",
    "plt.show()\n",
    "\n",
    "\n",
    "df['ones'] = 1\n",
    "df['X4'] = lst\n",
    "Y = df['X1']\n",
    "X = df[['X2', 'X3', 'X4', 'ones']]\n",
    "#Age\n",
    "X2only = df[['X2', 'ones']]\n",
    "#Weight\n",
    "X3only = df[['X3', 'ones']]\n",
    "\n",
    "# R2 is the metric to see how well the line fits\n",
    "def get_r2(X, Y):\n",
    "    w = np.linalg.solve(X.T.dot(X), X.T.dot(Y))\n",
    "    Yhat = X.dot(w)\n",
    "    \n",
    "    d1 = Y - Yhat\n",
    "    d2 = Y - Y.mean()\n",
    "    r2 = 1 - d1.dot(d1)/d2.dot(d2)\n",
    "    return r2\n",
    "\n",
    "\n",
    "print(\"R2 Age: \", get_r2(X2only, Y))\n",
    "print(\"R2 Weight: \", get_r2(X3only, Y))\n",
    "print(\"R2 Both: \", get_r2(X, Y))"
   ]
  },
  {
   "cell_type": "code",
   "execution_count": null,
   "metadata": {},
   "outputs": [],
   "source": []
  },
  {
   "cell_type": "code",
   "execution_count": null,
   "metadata": {},
   "outputs": [],
   "source": []
  }
 ],
 "metadata": {
  "kernelspec": {
   "display_name": "Python 3",
   "language": "python",
   "name": "python3"
  },
  "language_info": {
   "codemirror_mode": {
    "name": "ipython",
    "version": 3
   },
   "file_extension": ".py",
   "mimetype": "text/x-python",
   "name": "python",
   "nbconvert_exporter": "python",
   "pygments_lexer": "ipython3",
   "version": "3.6.6"
  }
 },
 "nbformat": 4,
 "nbformat_minor": 2
}
